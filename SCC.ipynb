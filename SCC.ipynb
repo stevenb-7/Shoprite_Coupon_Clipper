{
 "cells": [
  {
   "cell_type": "markdown",
   "metadata": {},
   "source": [
    "# Shoprite Coupon Clipper\n",
    "\n",
    "This notebook contains the initial development of the Shoprite Coupon Clipper. "
   ]
  },
  {
   "cell_type": "markdown",
   "metadata": {},
   "source": [
    "## Initial Website Access\n",
    "\n",
    "Initiate a valid connection to [shoprite.com](shoprite.com)\n"
   ]
  },
  {
   "cell_type": "code",
   "execution_count": 1,
   "metadata": {},
   "outputs": [],
   "source": [
    "# import libraries\n",
    "from selenium import webdriver\n",
    "from selenium.webdriver.chrome.service import Service\n",
    "from webdriver_manager.chrome import ChromeDriverManager\n",
    "from selenium.webdriver.common.by import By\n",
    "from selenium.webdriver.common.keys import Keys\n",
    "from selenium.webdriver.common.action_chains import ActionChains\n",
    "import time\n"
   ]
  },
  {
   "cell_type": "code",
   "execution_count": 2,
   "metadata": {},
   "outputs": [],
   "source": [
    "# Setup Chrome WebDriver\n",
    "options = webdriver.ChromeOptions()\n",
    "options.add_argument(\"--headless\")\n",
    "driver = webdriver.Chrome(service=Service(ChromeDriverManager().install()), options=options)"
   ]
  },
  {
   "cell_type": "code",
   "execution_count": 6,
   "metadata": {},
   "outputs": [
    {
     "name": "stdout",
     "output_type": "stream",
     "text": [
      "https://sts.brands.wakefern.com/shopfront/Account/Login?ReturnUrl=%2Fconnect%2Fauthorize%2Fcallback%3Fclient_id%3Dmwg.ecm.sts%26redirect_uri%3Dhttps%253A%252F%252Fsts.shoprite.com%252Fsignin-oidc-sts%26response_type%3Dcode%26scope%3Dopenid%2520profile%2520email%26code_challenge%3D8wJv6fPu1vCmfDiEXsmLT47uhbFPNzfEJ2DbbFZKt-s%26code_challenge_method%3DS256%26response_mode%3Dform_post%26nonce%3D638748412523064697.MmQ0ODllNGQtZDFjZS00NDhlLTkwNTgtYjQzNTFhYWY1NGZlYzI0YmU4MWQtMzQyNy00MzAyLWE0NTQtZjkyNTI2MzA0ZDM1%26state%3DCfDJ8L5_TCV0p8dDqBncCA1CNoeiv-ruN6-6hLsQbs1yNZmvqR0NbunUvTYbbf-lZl2l-zm5Jmjxl5QHgYaPtnuMYlfRFhHZ3QbiXNPHNSX-TXNZ9c7QnFHeaZtiyxse4_2RsitIbIFEGJ_pJLgpiKiIii0lExiC8OWPEwow12KxdoF3b5Xb_FEuvcNE0V-56vquecnUIVk1IvfRFrq5n3WAeb_TL-I1F0j8GItawSZfZbSxox80Cbq6LWXvR0iPgjApTFQyEkSsN_rXgioIWcO-YhKfqfSmYZWqOMvYosT0Y53p30Zi54I3N0RklXN_ipvM9238ZrqZcZCOn-JOpgvduVkquk8RX9sgajK04NUeywuh1ainF2RXvvVIFAQBy0jiRFMJ531871P2BMPWN1sMHsJ_450MEqXCh5XaYzUK9PvzlcVwyGeuU3JbluB46xtO20b_VXac5_A4Ddnpau4t-Y2SludXrGtGUm9e-OLU6Yq5FsyJD-605t7XT-vxmTYF3apkbUt_SL5eWGnC7zXrBhwb0tsk6eGFGdU-o04kViMtwo9IWuEHSe6Tlnd5J12wPFEYAYIgCzdUrDeJqnRGD9MRGewpIrLJdRFqhHtjWej6hngZbncGPEF7_zZEbSWm4FL7l4cyUin3t32H1_4mt6aGe6URdyrVoVbKGAaa4S_BfgKNdHI_ni0bu5xg4hXhLv58S6N6hJBLNtaKBccszH28Wy3YSfiJBjta6WZnNCBgKMlXyYRoEye5KcDW58g3hDaaUK5t1vwgj-EJuuxcJzMwjeBrPfdalT1Jg7-kjOj8zRx9AruuF6Dl30dXI9M_bFIT5IOWOOMCncjBsj7vD0JNCB69ebWqAwtRA9P1JvbHxwNAsYwYiYIYH6gtSjtUpIaBytHVt5DfjSXQ9zQYS4q--dSTuAZSX-8Z2p7gAktUoo6tXZATF9C52oAd8KxBBlIhdNNF3v6kBYpAf-Hu6DgmcOUh9L43yigmY0rVe8FKlo4YJvcCaVSCso1ofYUruwadEC25FtMo8QsD0zWVgsUd093zvxNqsQ5NedmL0XCJ4OB7WW5lsfI6SnFVermKpSOyA6P27fNtLxpJxnKQQPM\n"
     ]
    }
   ],
   "source": [
    "driver.get(\"https://sts.brands.wakefern.com/shopfront/Account/Login?ReturnUrl=%2Fconnect%2Fauthorize%2Fcallback%3Fclient_id%3Dmwg.ecm.sts%26redirect_uri%3Dhttps%253A%252F%252Fsts.shoprite.com%252Fsignin-oidc-sts%26response_type%3Dcode%26scope%3Dopenid%2520profile%2520email%26code_challenge%3D8wJv6fPu1vCmfDiEXsmLT47uhbFPNzfEJ2DbbFZKt-s%26code_challenge_method%3DS256%26response_mode%3Dform_post%26nonce%3D638748412523064697.MmQ0ODllNGQtZDFjZS00NDhlLTkwNTgtYjQzNTFhYWY1NGZlYzI0YmU4MWQtMzQyNy00MzAyLWE0NTQtZjkyNTI2MzA0ZDM1%26state%3DCfDJ8L5_TCV0p8dDqBncCA1CNoeiv-ruN6-6hLsQbs1yNZmvqR0NbunUvTYbbf-lZl2l-zm5Jmjxl5QHgYaPtnuMYlfRFhHZ3QbiXNPHNSX-TXNZ9c7QnFHeaZtiyxse4_2RsitIbIFEGJ_pJLgpiKiIii0lExiC8OWPEwow12KxdoF3b5Xb_FEuvcNE0V-56vquecnUIVk1IvfRFrq5n3WAeb_TL-I1F0j8GItawSZfZbSxox80Cbq6LWXvR0iPgjApTFQyEkSsN_rXgioIWcO-YhKfqfSmYZWqOMvYosT0Y53p30Zi54I3N0RklXN_ipvM9238ZrqZcZCOn-JOpgvduVkquk8RX9sgajK04NUeywuh1ainF2RXvvVIFAQBy0jiRFMJ531871P2BMPWN1sMHsJ_450MEqXCh5XaYzUK9PvzlcVwyGeuU3JbluB46xtO20b_VXac5_A4Ddnpau4t-Y2SludXrGtGUm9e-OLU6Yq5FsyJD-605t7XT-vxmTYF3apkbUt_SL5eWGnC7zXrBhwb0tsk6eGFGdU-o04kViMtwo9IWuEHSe6Tlnd5J12wPFEYAYIgCzdUrDeJqnRGD9MRGewpIrLJdRFqhHtjWej6hngZbncGPEF7_zZEbSWm4FL7l4cyUin3t32H1_4mt6aGe6URdyrVoVbKGAaa4S_BfgKNdHI_ni0bu5xg4hXhLv58S6N6hJBLNtaKBccszH28Wy3YSfiJBjta6WZnNCBgKMlXyYRoEye5KcDW58g3hDaaUK5t1vwgj-EJuuxcJzMwjeBrPfdalT1Jg7-kjOj8zRx9AruuF6Dl30dXI9M_bFIT5IOWOOMCncjBsj7vD0JNCB69ebWqAwtRA9P1JvbHxwNAsYwYiYIYH6gtSjtUpIaBytHVt5DfjSXQ9zQYS4q--dSTuAZSX-8Z2p7gAktUoo6tXZATF9C52oAd8KxBBlIhdNNF3v6kBYpAf-Hu6DgmcOUh9L43yigmY0rVe8FKlo4YJvcCaVSCso1ofYUruwadEC25FtMo8QsD0zWVgsUd093zvxNqsQ5NedmL0XCJ4OB7WW5lsfI6SnFVermKpSOyA6P27fNtLxpJxnKQQPM\")"
   ]
  }
 ],
 "metadata": {
  "kernelspec": {
   "display_name": "Python (base)",
   "language": "python",
   "name": "base"
  },
  "language_info": {
   "codemirror_mode": {
    "name": "ipython",
    "version": 3
   },
   "file_extension": ".py",
   "mimetype": "text/x-python",
   "name": "python",
   "nbconvert_exporter": "python",
   "pygments_lexer": "ipython3",
   "version": "3.11.9"
  }
 },
 "nbformat": 4,
 "nbformat_minor": 2
}
