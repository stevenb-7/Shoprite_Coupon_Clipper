{
 "cells": [
  {
   "cell_type": "markdown",
   "metadata": {},
   "source": [
    "# Shoprite Coupon Clipper\n",
    "\n",
    "This notebook contains the initial development of the Shoprite Coupon Clipper. "
   ]
  },
  {
   "cell_type": "markdown",
   "metadata": {},
   "source": [
    "## Initial Website Access\n",
    "\n",
    "Initiate a valid connection to [shoprite.com](shoprite.com)\n"
   ]
  },
  {
   "cell_type": "code",
   "execution_count": 6,
   "metadata": {},
   "outputs": [],
   "source": [
    "# import libraries\n",
    "import asyncio\n",
    "import nest_asyncio\n",
    "from playwright.async_api import async_playwright\n",
    "import os\n",
    "from dotenv import load_dotenv\n"
   ]
  },
  {
   "cell_type": "code",
   "execution_count": 7,
   "metadata": {},
   "outputs": [
    {
     "name": "stdout",
     "output_type": "stream",
     "text": [
      "spidersteve2001@aol.com\n",
      "Login successful!\n"
     ]
    }
   ],
   "source": [
    "nest_asyncio.apply()\n",
    "\n",
    "# Load credentials from .env file\n",
    "load_dotenv()\n",
    "username = os.getenv(\"SHOPRITE_USERNAME\")\n",
    "password = os.getenv(\"SHOPRITE_PASSWORD\")\n",
    "\n",
    "print(username)\n",
    "\n",
    "async def run():\n",
    "    async with async_playwright() as p:\n",
    "        browser = await p.chromium.launch(headless=False)  # Set to True for headless mode\n",
    "        page = await browser.new_page()\n",
    "\n",
    "        # Open Shoprite login page\n",
    "        await page.goto(\"https://sts.brands.wakefern.com/shopfront/Account/Login?ReturnUrl=%2Fconnect%2Fauthorize%2Fcallback%3Fclient_id%3Dmwg.ecm.sts%26redirect_uri%3Dhttps%253A%252F%252Fsts.shoprite.com%252Fsignin-oidc-sts%26response_type%3Dcode%26scope%3Dopenid%2520profile%2520email%26code_challenge%3DzKPdRViSmO_IG0y8SaVCqQokZ2VoMsIeLtV4QeH7T7o%26code_challenge_method%3DS256%26response_mode%3Dform_post%26nonce%3D638748759550591464.MGE2YjM1YTYtOWU2NS00OGViLWJkMWMtN2YwMTdmMDhkMjY0MjlkYWZkNjEtNjFiYy00ZmRhLTg0NTktNjdjZjU5NDkwODBm%26state%3DCfDJ8L5_TCV0p8dDqBncCA1CNocUHckWTJ_6qveJpTtc0Xks4RXXF3_3Z21cTMwcSmZT7XhARUvmTYY5YO3JeSg9YOkBGDRKW_VvBZDJZo6jIpLMUXSXisKfs06PtT0nwuA-PmdtEHfVlCX-HMMeW_C2da20l-DIZ1ucEyrqwaFV9QHYU6wCPbL1yp7TnFoRuN4G5EDOhOESWhnJDgsdr5g-VmEkd2NSzeHOYs76wui8cnWN_z9emDMsfhoVy1qm-cZG3dKDIAboNWtgvqMEHjffKMIRxQM7yUgISe5XHBGLcIN8MO5W_IeTqd5SJG6qYNX0_5E8AvPujfzeUeSTLAPCrO3kKKehhbgmRF9iLp6zxHLEeSlls_jdtax8tbfyb6sfAwLA9_iIddo-SaqQVkwPPSJg7TaUkLgMT1FLUoQcVxovyb7P8O-9nqzJWV8TwMubwWt7URQfYMVycWWoOy_yaEJ__kQss9krpvoAkmbIZYGc2lctYKfRMjxKKzNuLmn7BNwmwUeOFe3ZWImuiopUU1gS7bampRjNqxqkh4UZxOlpPO9Ipe0ifAMJHsYApB4sSfKpsT_uhG29W55WGVGMPYGGfKktCwCYtQE_yUsvoEU67HBU2gZRzA_TFbWcUjbktgLu36MGUnonk-qKgTM6qsruy1kvHH_3TlgXfG_r4s2LAFjlNoUDuVYbHfqNe0a7rVUBy_sIaflA4pWg-MnnJ_6bnGqfzEnLO-NGkglPrcTjSIwamF3wwz7bgXv1Bg7t44ztdiYNE8He9cRvQ_JltZMgJ_oP0L9Y5u1enpk6o-T8t8PP2zmm4DIMFbs4NEWmCH1sjzbEuz7PXU7qUD3oImd5r1fdCKVbo3kl5ENLdzIACJO4xxIUyck9Gx124pHH8K79wsU2ai86kG5qp4U1-lELFbeTnuhZVHTQImWIlfePO4BbmlUgE0-YiH_b6McjhKSYcCbjrt2fdwyjGy--eNhmw3xKJfORhdvv10j4Fmp-RxLCv-vmr5d3xgWzUYndVP-T1IQAnNnKf1ISsfslTNtIGyd3s4CCycSNv5KnOCsamzSg2zSHXYTuLLkQSMg4XWDbEuS0q4toclR912XdJCQ\", timeout=60000)\n",
    "\n",
    "        # Debugging: Pause to inspect elements manually\n",
    "        await page.pause()\n",
    "\n",
    "        # Ensure the login form has loaded\n",
    "        await page.wait_for_selector(\"input[type='email']\", timeout=10000)\n",
    "\n",
    "        # Fill in login details\n",
    "        await page.fill(\"input[type='email']\", username)\n",
    "        await page.fill(\"input[type='password']\", password)\n",
    "\n",
    "        # Click login button\n",
    "        await page.click(\"button[type='submit']\")\n",
    "\n",
    "        # Wait for the page to load after login\n",
    "        await page.wait_for_load_state(\"networkidle\")\n",
    "\n",
    "        print(\"Login successful!\")\n",
    "\n",
    "        await browser.close()\n",
    "\n",
    "asyncio.get_event_loop().run_until_complete(run())"
   ]
  },
  {
   "cell_type": "code",
   "execution_count": 5,
   "metadata": {},
   "outputs": [
    {
     "name": "stdout",
     "output_type": "stream",
     "text": [
      "None\n"
     ]
    }
   ],
   "source": [
    "print(os.getenv(\"SHOPRITE_USERNAME\"))"
   ]
  }
 ],
 "metadata": {
  "kernelspec": {
   "display_name": "Python (base)",
   "language": "python",
   "name": "base"
  },
  "language_info": {
   "codemirror_mode": {
    "name": "ipython",
    "version": 3
   },
   "file_extension": ".py",
   "mimetype": "text/x-python",
   "name": "python",
   "nbconvert_exporter": "python",
   "pygments_lexer": "ipython3",
   "version": "3.11.9"
  }
 },
 "nbformat": 4,
 "nbformat_minor": 2
}
